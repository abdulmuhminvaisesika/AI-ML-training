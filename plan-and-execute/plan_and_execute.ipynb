{
 "cells": [
  {
   "cell_type": "code",
   "execution_count": 4,
   "id": "c874fff5",
   "metadata": {},
   "outputs": [
    {
     "name": "stderr",
     "output_type": "stream",
     "text": [
      "\n",
      "[notice] A new release of pip is available: 24.3.1 -> 25.0.1\n",
      "[notice] To update, run: python.exe -m pip install --upgrade pip\n"
     ]
    }
   ],
   "source": [
    "%%capture --no-stderr\n",
    "%pip install --quiet -U langgraph langchain-community tavily-python"
   ]
  },
  {
   "cell_type": "code",
   "execution_count": 6,
   "id": "79117cb3",
   "metadata": {},
   "outputs": [],
   "source": [
    "import getpass\n",
    "import os\n",
    "\n",
    "\n",
    "def _set_env(var: str):\n",
    "    if not os.environ.get(var):\n",
    "        os.environ[var] = getpass.getpass(f\"{var}: \")\n",
    "\n",
    "\n",
    "_set_env(\"TAVILY_API_KEY\")"
   ]
  },
  {
   "cell_type": "code",
   "execution_count": 7,
   "id": "bc436cf0",
   "metadata": {},
   "outputs": [
    {
     "name": "stdout",
     "output_type": "stream",
     "text": [
      "Requirement already satisfied: langsmith in c:\\users\\abdul.muhmin\\al&ml\\local_ai_agent\\localaiagentwithrag\\restaurant review ai agent\\venv\\lib\\site-packages (0.3.23)\n",
      "Requirement already satisfied: httpx<1,>=0.23.0 in c:\\users\\abdul.muhmin\\al&ml\\local_ai_agent\\localaiagentwithrag\\restaurant review ai agent\\venv\\lib\\site-packages (from langsmith) (0.28.1)\n",
      "Requirement already satisfied: orjson<4.0.0,>=3.9.14 in c:\\users\\abdul.muhmin\\al&ml\\local_ai_agent\\localaiagentwithrag\\restaurant review ai agent\\venv\\lib\\site-packages (from langsmith) (3.10.16)\n",
      "Requirement already satisfied: packaging>=23.2 in c:\\users\\abdul.muhmin\\al&ml\\local_ai_agent\\localaiagentwithrag\\restaurant review ai agent\\venv\\lib\\site-packages (from langsmith) (24.2)\n",
      "Requirement already satisfied: pydantic<3.0.0,>=2.7.4 in c:\\users\\abdul.muhmin\\al&ml\\local_ai_agent\\localaiagentwithrag\\restaurant review ai agent\\venv\\lib\\site-packages (from langsmith) (2.11.1)\n",
      "Requirement already satisfied: requests<3,>=2 in c:\\users\\abdul.muhmin\\al&ml\\local_ai_agent\\localaiagentwithrag\\restaurant review ai agent\\venv\\lib\\site-packages (from langsmith) (2.32.3)\n",
      "Requirement already satisfied: requests-toolbelt<2.0.0,>=1.0.0 in c:\\users\\abdul.muhmin\\al&ml\\local_ai_agent\\localaiagentwithrag\\restaurant review ai agent\\venv\\lib\\site-packages (from langsmith) (1.0.0)\n",
      "Requirement already satisfied: zstandard<0.24.0,>=0.23.0 in c:\\users\\abdul.muhmin\\al&ml\\local_ai_agent\\localaiagentwithrag\\restaurant review ai agent\\venv\\lib\\site-packages (from langsmith) (0.23.0)\n",
      "Requirement already satisfied: anyio in c:\\users\\abdul.muhmin\\al&ml\\local_ai_agent\\localaiagentwithrag\\restaurant review ai agent\\venv\\lib\\site-packages (from httpx<1,>=0.23.0->langsmith) (4.9.0)\n",
      "Requirement already satisfied: certifi in c:\\users\\abdul.muhmin\\al&ml\\local_ai_agent\\localaiagentwithrag\\restaurant review ai agent\\venv\\lib\\site-packages (from httpx<1,>=0.23.0->langsmith) (2025.1.31)\n",
      "Requirement already satisfied: httpcore==1.* in c:\\users\\abdul.muhmin\\al&ml\\local_ai_agent\\localaiagentwithrag\\restaurant review ai agent\\venv\\lib\\site-packages (from httpx<1,>=0.23.0->langsmith) (1.0.7)\n",
      "Requirement already satisfied: idna in c:\\users\\abdul.muhmin\\al&ml\\local_ai_agent\\localaiagentwithrag\\restaurant review ai agent\\venv\\lib\\site-packages (from httpx<1,>=0.23.0->langsmith) (3.10)\n",
      "Requirement already satisfied: h11<0.15,>=0.13 in c:\\users\\abdul.muhmin\\al&ml\\local_ai_agent\\localaiagentwithrag\\restaurant review ai agent\\venv\\lib\\site-packages (from httpcore==1.*->httpx<1,>=0.23.0->langsmith) (0.14.0)\n",
      "Requirement already satisfied: annotated-types>=0.6.0 in c:\\users\\abdul.muhmin\\al&ml\\local_ai_agent\\localaiagentwithrag\\restaurant review ai agent\\venv\\lib\\site-packages (from pydantic<3.0.0,>=2.7.4->langsmith) (0.7.0)\n",
      "Requirement already satisfied: pydantic-core==2.33.0 in c:\\users\\abdul.muhmin\\al&ml\\local_ai_agent\\localaiagentwithrag\\restaurant review ai agent\\venv\\lib\\site-packages (from pydantic<3.0.0,>=2.7.4->langsmith) (2.33.0)\n",
      "Requirement already satisfied: typing-extensions>=4.12.2 in c:\\users\\abdul.muhmin\\al&ml\\local_ai_agent\\localaiagentwithrag\\restaurant review ai agent\\venv\\lib\\site-packages (from pydantic<3.0.0,>=2.7.4->langsmith) (4.13.0)\n",
      "Requirement already satisfied: typing-inspection>=0.4.0 in c:\\users\\abdul.muhmin\\al&ml\\local_ai_agent\\localaiagentwithrag\\restaurant review ai agent\\venv\\lib\\site-packages (from pydantic<3.0.0,>=2.7.4->langsmith) (0.4.0)\n",
      "Requirement already satisfied: charset-normalizer<4,>=2 in c:\\users\\abdul.muhmin\\al&ml\\local_ai_agent\\localaiagentwithrag\\restaurant review ai agent\\venv\\lib\\site-packages (from requests<3,>=2->langsmith) (3.4.1)\n",
      "Requirement already satisfied: urllib3<3,>=1.21.1 in c:\\users\\abdul.muhmin\\al&ml\\local_ai_agent\\localaiagentwithrag\\restaurant review ai agent\\venv\\lib\\site-packages (from requests<3,>=2->langsmith) (2.3.0)\n",
      "Requirement already satisfied: sniffio>=1.1 in c:\\users\\abdul.muhmin\\al&ml\\local_ai_agent\\localaiagentwithrag\\restaurant review ai agent\\venv\\lib\\site-packages (from anyio->httpx<1,>=0.23.0->langsmith) (1.3.1)\n",
      "Note: you may need to restart the kernel to use updated packages.\n"
     ]
    },
    {
     "name": "stderr",
     "output_type": "stream",
     "text": [
      "\n",
      "[notice] A new release of pip is available: 24.3.1 -> 25.0.1\n",
      "[notice] To update, run: python.exe -m pip install --upgrade pip\n"
     ]
    }
   ],
   "source": [
    "%pip install langsmith"
   ]
  },
  {
   "cell_type": "code",
   "execution_count": 8,
   "id": "85d032cc",
   "metadata": {},
   "outputs": [],
   "source": [
    "import os\n",
    "\n",
    "os.environ[\"LANGCHAIN_API_KEY\"] = \"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\"\n",
    "os.environ[\"LANGCHAIN_TRACING_V2\"] = \"true\"\n",
    "os.environ[\"LANGCHAIN_PROJECT\"] = \"plan-execute-agent\""
   ]
  },
  {
   "cell_type": "code",
   "execution_count": 9,
   "id": "82ed45a5",
   "metadata": {},
   "outputs": [],
   "source": [
    "from langchain_community.tools.tavily_search import TavilySearchResults\n",
    "\n",
    "tools = [TavilySearchResults(max_results=3)]"
   ]
  },
  {
   "cell_type": "code",
   "execution_count": 10,
   "id": "b6df9f17",
   "metadata": {},
   "outputs": [
    {
     "name": "stdout",
     "output_type": "stream",
     "text": [
      "Requirement already satisfied: langchain-ollama in c:\\users\\abdul.muhmin\\al&ml\\local_ai_agent\\localaiagentwithrag\\restaurant review ai agent\\venv\\lib\\site-packages (0.3.0)\n",
      "Collecting langchain-ollama\n",
      "  Downloading langchain_ollama-0.3.1-py3-none-any.whl.metadata (1.5 kB)\n",
      "Requirement already satisfied: ollama<1,>=0.4.4 in c:\\users\\abdul.muhmin\\al&ml\\local_ai_agent\\localaiagentwithrag\\restaurant review ai agent\\venv\\lib\\site-packages (from langchain-ollama) (0.4.7)\n",
      "Requirement already satisfied: langchain-core<1.0.0,>=0.3.51 in c:\\users\\abdul.muhmin\\al&ml\\local_ai_agent\\localaiagentwithrag\\restaurant review ai agent\\venv\\lib\\site-packages (from langchain-ollama) (0.3.51)\n",
      "Requirement already satisfied: langsmith<0.4,>=0.1.125 in c:\\users\\abdul.muhmin\\al&ml\\local_ai_agent\\localaiagentwithrag\\restaurant review ai agent\\venv\\lib\\site-packages (from langchain-core<1.0.0,>=0.3.51->langchain-ollama) (0.3.23)\n",
      "Requirement already satisfied: tenacity!=8.4.0,<10.0.0,>=8.1.0 in c:\\users\\abdul.muhmin\\al&ml\\local_ai_agent\\localaiagentwithrag\\restaurant review ai agent\\venv\\lib\\site-packages (from langchain-core<1.0.0,>=0.3.51->langchain-ollama) (9.1.2)\n",
      "Requirement already satisfied: jsonpatch<2.0,>=1.33 in c:\\users\\abdul.muhmin\\al&ml\\local_ai_agent\\localaiagentwithrag\\restaurant review ai agent\\venv\\lib\\site-packages (from langchain-core<1.0.0,>=0.3.51->langchain-ollama) (1.33)\n",
      "Requirement already satisfied: PyYAML>=5.3 in c:\\users\\abdul.muhmin\\al&ml\\local_ai_agent\\localaiagentwithrag\\restaurant review ai agent\\venv\\lib\\site-packages (from langchain-core<1.0.0,>=0.3.51->langchain-ollama) (6.0.2)\n",
      "Requirement already satisfied: packaging<25,>=23.2 in c:\\users\\abdul.muhmin\\al&ml\\local_ai_agent\\localaiagentwithrag\\restaurant review ai agent\\venv\\lib\\site-packages (from langchain-core<1.0.0,>=0.3.51->langchain-ollama) (24.2)\n",
      "Requirement already satisfied: typing-extensions>=4.7 in c:\\users\\abdul.muhmin\\al&ml\\local_ai_agent\\localaiagentwithrag\\restaurant review ai agent\\venv\\lib\\site-packages (from langchain-core<1.0.0,>=0.3.51->langchain-ollama) (4.13.0)\n",
      "Requirement already satisfied: pydantic<3.0.0,>=2.7.4 in c:\\users\\abdul.muhmin\\al&ml\\local_ai_agent\\localaiagentwithrag\\restaurant review ai agent\\venv\\lib\\site-packages (from langchain-core<1.0.0,>=0.3.51->langchain-ollama) (2.11.1)\n",
      "Requirement already satisfied: httpx<0.29,>=0.27 in c:\\users\\abdul.muhmin\\al&ml\\local_ai_agent\\localaiagentwithrag\\restaurant review ai agent\\venv\\lib\\site-packages (from ollama<1,>=0.4.4->langchain-ollama) (0.28.1)\n",
      "Requirement already satisfied: anyio in c:\\users\\abdul.muhmin\\al&ml\\local_ai_agent\\localaiagentwithrag\\restaurant review ai agent\\venv\\lib\\site-packages (from httpx<0.29,>=0.27->ollama<1,>=0.4.4->langchain-ollama) (4.9.0)\n",
      "Requirement already satisfied: certifi in c:\\users\\abdul.muhmin\\al&ml\\local_ai_agent\\localaiagentwithrag\\restaurant review ai agent\\venv\\lib\\site-packages (from httpx<0.29,>=0.27->ollama<1,>=0.4.4->langchain-ollama) (2025.1.31)\n",
      "Requirement already satisfied: httpcore==1.* in c:\\users\\abdul.muhmin\\al&ml\\local_ai_agent\\localaiagentwithrag\\restaurant review ai agent\\venv\\lib\\site-packages (from httpx<0.29,>=0.27->ollama<1,>=0.4.4->langchain-ollama) (1.0.7)\n",
      "Requirement already satisfied: idna in c:\\users\\abdul.muhmin\\al&ml\\local_ai_agent\\localaiagentwithrag\\restaurant review ai agent\\venv\\lib\\site-packages (from httpx<0.29,>=0.27->ollama<1,>=0.4.4->langchain-ollama) (3.10)\n",
      "Requirement already satisfied: h11<0.15,>=0.13 in c:\\users\\abdul.muhmin\\al&ml\\local_ai_agent\\localaiagentwithrag\\restaurant review ai agent\\venv\\lib\\site-packages (from httpcore==1.*->httpx<0.29,>=0.27->ollama<1,>=0.4.4->langchain-ollama) (0.14.0)\n",
      "Requirement already satisfied: jsonpointer>=1.9 in c:\\users\\abdul.muhmin\\al&ml\\local_ai_agent\\localaiagentwithrag\\restaurant review ai agent\\venv\\lib\\site-packages (from jsonpatch<2.0,>=1.33->langchain-core<1.0.0,>=0.3.51->langchain-ollama) (3.0.0)\n",
      "Requirement already satisfied: orjson<4.0.0,>=3.9.14 in c:\\users\\abdul.muhmin\\al&ml\\local_ai_agent\\localaiagentwithrag\\restaurant review ai agent\\venv\\lib\\site-packages (from langsmith<0.4,>=0.1.125->langchain-core<1.0.0,>=0.3.51->langchain-ollama) (3.10.16)\n",
      "Requirement already satisfied: requests<3,>=2 in c:\\users\\abdul.muhmin\\al&ml\\local_ai_agent\\localaiagentwithrag\\restaurant review ai agent\\venv\\lib\\site-packages (from langsmith<0.4,>=0.1.125->langchain-core<1.0.0,>=0.3.51->langchain-ollama) (2.32.3)\n",
      "Requirement already satisfied: requests-toolbelt<2.0.0,>=1.0.0 in c:\\users\\abdul.muhmin\\al&ml\\local_ai_agent\\localaiagentwithrag\\restaurant review ai agent\\venv\\lib\\site-packages (from langsmith<0.4,>=0.1.125->langchain-core<1.0.0,>=0.3.51->langchain-ollama) (1.0.0)\n",
      "Requirement already satisfied: zstandard<0.24.0,>=0.23.0 in c:\\users\\abdul.muhmin\\al&ml\\local_ai_agent\\localaiagentwithrag\\restaurant review ai agent\\venv\\lib\\site-packages (from langsmith<0.4,>=0.1.125->langchain-core<1.0.0,>=0.3.51->langchain-ollama) (0.23.0)\n",
      "Requirement already satisfied: annotated-types>=0.6.0 in c:\\users\\abdul.muhmin\\al&ml\\local_ai_agent\\localaiagentwithrag\\restaurant review ai agent\\venv\\lib\\site-packages (from pydantic<3.0.0,>=2.7.4->langchain-core<1.0.0,>=0.3.51->langchain-ollama) (0.7.0)\n",
      "Requirement already satisfied: pydantic-core==2.33.0 in c:\\users\\abdul.muhmin\\al&ml\\local_ai_agent\\localaiagentwithrag\\restaurant review ai agent\\venv\\lib\\site-packages (from pydantic<3.0.0,>=2.7.4->langchain-core<1.0.0,>=0.3.51->langchain-ollama) (2.33.0)\n",
      "Requirement already satisfied: typing-inspection>=0.4.0 in c:\\users\\abdul.muhmin\\al&ml\\local_ai_agent\\localaiagentwithrag\\restaurant review ai agent\\venv\\lib\\site-packages (from pydantic<3.0.0,>=2.7.4->langchain-core<1.0.0,>=0.3.51->langchain-ollama) (0.4.0)\n",
      "Requirement already satisfied: charset-normalizer<4,>=2 in c:\\users\\abdul.muhmin\\al&ml\\local_ai_agent\\localaiagentwithrag\\restaurant review ai agent\\venv\\lib\\site-packages (from requests<3,>=2->langsmith<0.4,>=0.1.125->langchain-core<1.0.0,>=0.3.51->langchain-ollama) (3.4.1)\n",
      "Requirement already satisfied: urllib3<3,>=1.21.1 in c:\\users\\abdul.muhmin\\al&ml\\local_ai_agent\\localaiagentwithrag\\restaurant review ai agent\\venv\\lib\\site-packages (from requests<3,>=2->langsmith<0.4,>=0.1.125->langchain-core<1.0.0,>=0.3.51->langchain-ollama) (2.3.0)\n",
      "Requirement already satisfied: sniffio>=1.1 in c:\\users\\abdul.muhmin\\al&ml\\local_ai_agent\\localaiagentwithrag\\restaurant review ai agent\\venv\\lib\\site-packages (from anyio->httpx<0.29,>=0.27->ollama<1,>=0.4.4->langchain-ollama) (1.3.1)\n",
      "Downloading langchain_ollama-0.3.1-py3-none-any.whl (20 kB)\n",
      "Installing collected packages: langchain-ollama\n",
      "  Attempting uninstall: langchain-ollama\n",
      "    Found existing installation: langchain-ollama 0.3.0\n",
      "    Uninstalling langchain-ollama-0.3.0:\n",
      "      Successfully uninstalled langchain-ollama-0.3.0\n",
      "Successfully installed langchain-ollama-0.3.1\n",
      "Note: you may need to restart the kernel to use updated packages.\n"
     ]
    },
    {
     "name": "stderr",
     "output_type": "stream",
     "text": [
      "\n",
      "[notice] A new release of pip is available: 24.3.1 -> 25.0.1\n",
      "[notice] To update, run: python.exe -m pip install --upgrade pip\n"
     ]
    }
   ],
   "source": [
    "pip install -U langchain-ollama"
   ]
  },
  {
   "cell_type": "code",
   "execution_count": 11,
   "id": "01d72462",
   "metadata": {},
   "outputs": [],
   "source": [
    "from langchain_ollama import ChatOllama\n",
    "from langchain import hub\n",
    "from langgraph.prebuilt import create_react_agent\n",
    "\n",
    "# Choose the LLM that will drive the agent\n",
    "llm = ChatOllama(model=\"mistral\")\n",
    "prompt = \"You are a helpful assistant.\"\n",
    "agent_executor = create_react_agent(llm, tools, prompt=prompt)"
   ]
  },
  {
   "cell_type": "code",
   "execution_count": 12,
   "id": "83def666",
   "metadata": {},
   "outputs": [
    {
     "data": {
      "text/plain": [
       "{'messages': [HumanMessage(content='who is the winnner of the us open', additional_kwargs={}, response_metadata={}, id='1e83ccad-a08d-45cc-ad0f-0ae52846d8a0'),\n",
       "  AIMessage(content='', additional_kwargs={}, response_metadata={'model': 'mistral', 'created_at': '2025-04-08T05:11:58.289998Z', 'done': True, 'done_reason': 'stop', 'total_duration': 18368158200, 'load_duration': 4843032300, 'prompt_eval_count': 118, 'prompt_eval_duration': 8821439900, 'eval_count': 29, 'eval_duration': 4697729600, 'message': Message(role='assistant', content='', images=None, tool_calls=None), 'model_name': 'mistral'}, id='run-c3641f2b-7f54-469a-b175-4ede50624b5c-0', tool_calls=[{'name': 'tavily_search_results_json', 'args': {'query': 'winner of the us open'}, 'id': 'aca24b1d-a198-49fe-a9aa-51eb672cf898', 'type': 'tool_call'}], usage_metadata={'input_tokens': 118, 'output_tokens': 29, 'total_tokens': 147}),\n",
       "  ToolMessage(content='[{\"title\": \"Year by Year | History of the US Open - A USTA Event - USOpen.org\", \"url\": \"https://www.usopen.org/en_US/visit/year_by_year.html\", \"content\": \"The US Open becomes a coming-out party, as Arthur Ashe Stadium is the centerpiece of a new USTA National Tennis Center, and the US Open crowns brand new men\\'s and women\\'s singles champions. By the score of 6-0, 6-4, Martina Hingis of Switzerland wins her first U.S. women\\'s singles title at 16 years, 11 months and 8 days, the second-youngest woman to do so. In the youngest Grand Slam tournament final of the Open Era, she defeats 17-year-old American Venus Williams, the first US Open debut [...] A passing of the torch occurs at the US Open, as the tournament begins with Sampras announcing his retirement from the sport in an emotional on-court ceremony during the opening night of the championships. American Andy Roddick, 21, closes the tournament by claiming the crown that Sampras took the year before, winning his first Grand Slam tournament title with a 6-3, 7-6(2), 6-3 victory over Spain\\'s Juan Carlos Ferrero in the men\\'s singles final. With the win, Roddick becomes the first American [...] In the doubles events, Sam Stosur and Shuai Zhang won the women\\'s title, while Rajeev Ram and Joe Salisbury claimed the men\\'s crown. Salisbury also teamed with Desirae Krawczyk and to win the mixed.\", \"score\": 0.7933146}, {\"title\": \"List of US Open men\\'s singles champions - Wikipedia\", \"url\": \"https://en.wikipedia.org/wiki/List_of_US_Open_men%27s_singles_champions\", \"content\": \"During the US Open, since the inclusion of the professional tennis players, Jimmy Connors (1974, 1976, 1978, 1982–1983), Pete Sampras (1990, 1993, 1995–1996, 2002), and Roger Federer (2004–2008) have won the most championships, with five titles. Federer has had the most consecutive wins, with five (2004–2008).[3]\\\\nChampions[edit]\\\\nUnited States National Championships[edit]\\\\nRichard Sears, the champion of the first seven editions of the U.S. Championships. [...] Surface Grass (1881–1974)\\\\nClay[a] (1975–1977)\\\\nHard[b] (1978–present)\\\\nPrize money Total: US$65,000,000 (2023)\\\\nWinner: US$3,000,000 (2023)\\\\nTrophy  US Open Trophy\\\\nWebsite Official website\\\\nMost titles\\\\nAmateur era 7: Richard Sears\\\\n7: William Larned\\\\n7: Bill Tilden\\\\nOpen era    5: Jimmy Connors\\\\n5: Pete Sampras\\\\n5: Roger Federer\\\\nMost consecutive titles\\\\nAmateur era 7: Richard Sears\\\\nOpen era    5: Roger Federer\\\\nCurrent champion\\\\nJannik Sinner [...] 1962    \\xa0AUS    Rod Laver (1/2) \\xa0AUS    Roy Emerson 6–2, 6–4, 5–7, 6–4\\\\n1963    \\xa0MEX    Rafael Osuna (1/1)  \\xa0USA    Frank Froehling 7–5, 6–4, 6–2\\\\n1964    \\xa0AUS    Roy Emerson (2/2)   \\xa0AUS    Fred Stolle 6–4, 6–2, 6–4\\\\n1965    \\xa0ESP    Manuel Santana (1/1)    \\xa0RSA    Cliff Drysdale  6–2, 7–9, 7–5, 6–1\\\\n1966    \\xa0AUS    Fred Stolle (1/1)   \\xa0AUS    John Newcombe   4–6, 12–10, 6–3, 6–4\\\\n1967    \\xa0AUS    John Newcombe (1/2) \\xa0USA    Clark Graebner  6–4, 6–4, 8–6\\\\nUS Open[edit]\", \"score\": 0.7602419}, {\"title\": \"U.S. Open | Golf Tournament, History & Winners - Britannica\", \"url\": \"https://www.britannica.com/sports/US-Open-golf\", \"content\": \"The U.S. Open was originally dominated by Britons who had settled in the United States; the first American-born champion, John J. McDermott, won in 1911 at age\", \"score\": 0.75377536}]', name='tavily_search_results_json', id='b13ef9e0-e386-45a2-984b-1bb7c6bb166b', tool_call_id='aca24b1d-a198-49fe-a9aa-51eb672cf898', artifact={'query': 'winner of the us open', 'follow_up_questions': None, 'answer': None, 'images': [], 'results': [{'url': 'https://www.usopen.org/en_US/visit/year_by_year.html', 'title': 'Year by Year | History of the US Open - A USTA Event - USOpen.org', 'content': \"The US Open becomes a coming-out party, as Arthur Ashe Stadium is the centerpiece of a new USTA National Tennis Center, and the US Open crowns brand new men's and women's singles champions. By the score of 6-0, 6-4, Martina Hingis of Switzerland wins her first U.S. women's singles title at 16 years, 11 months and 8 days, the second-youngest woman to do so. In the youngest Grand Slam tournament final of the Open Era, she defeats 17-year-old American Venus Williams, the first US Open debut [...] A passing of the torch occurs at the US Open, as the tournament begins with Sampras announcing his retirement from the sport in an emotional on-court ceremony during the opening night of the championships. American Andy Roddick, 21, closes the tournament by claiming the crown that Sampras took the year before, winning his first Grand Slam tournament title with a 6-3, 7-6(2), 6-3 victory over Spain's Juan Carlos Ferrero in the men's singles final. With the win, Roddick becomes the first American [...] In the doubles events, Sam Stosur and Shuai Zhang won the women's title, while Rajeev Ram and Joe Salisbury claimed the men's crown. Salisbury also teamed with Desirae Krawczyk and to win the mixed.\", 'score': 0.7933146, 'raw_content': None}, {'url': 'https://en.wikipedia.org/wiki/List_of_US_Open_men%27s_singles_champions', 'title': \"List of US Open men's singles champions - Wikipedia\", 'content': 'During the US Open, since the inclusion of the professional tennis players, Jimmy Connors (1974, 1976, 1978, 1982–1983), Pete Sampras (1990, 1993, 1995–1996, 2002), and Roger Federer (2004–2008) have won the most championships, with five titles. Federer has had the most consecutive wins, with five (2004–2008).[3]\\nChampions[edit]\\nUnited States National Championships[edit]\\nRichard Sears, the champion of the first seven editions of the U.S. Championships. [...] Surface Grass (1881–1974)\\nClay[a] (1975–1977)\\nHard[b] (1978–present)\\nPrize money Total: US$65,000,000 (2023)\\nWinner: US$3,000,000 (2023)\\nTrophy  US Open Trophy\\nWebsite Official website\\nMost titles\\nAmateur era 7: Richard Sears\\n7: William Larned\\n7: Bill Tilden\\nOpen era    5: Jimmy Connors\\n5: Pete Sampras\\n5: Roger Federer\\nMost consecutive titles\\nAmateur era 7: Richard Sears\\nOpen era    5: Roger Federer\\nCurrent champion\\nJannik Sinner [...] 1962    \\xa0AUS    Rod Laver (1/2) \\xa0AUS    Roy Emerson 6–2, 6–4, 5–7, 6–4\\n1963    \\xa0MEX    Rafael Osuna (1/1)  \\xa0USA    Frank Froehling 7–5, 6–4, 6–2\\n1964    \\xa0AUS    Roy Emerson (2/2)   \\xa0AUS    Fred Stolle 6–4, 6–2, 6–4\\n1965    \\xa0ESP    Manuel Santana (1/1)    \\xa0RSA    Cliff Drysdale  6–2, 7–9, 7–5, 6–1\\n1966    \\xa0AUS    Fred Stolle (1/1)   \\xa0AUS    John Newcombe   4–6, 12–10, 6–3, 6–4\\n1967    \\xa0AUS    John Newcombe (1/2) \\xa0USA    Clark Graebner  6–4, 6–4, 8–6\\nUS Open[edit]', 'score': 0.7602419, 'raw_content': None}, {'url': 'https://www.britannica.com/sports/US-Open-golf', 'title': 'U.S. Open | Golf Tournament, History & Winners - Britannica', 'content': 'The U.S. Open was originally dominated by Britons who had settled in the United States; the first American-born champion, John J. McDermott, won in 1911 at age', 'score': 0.75377536, 'raw_content': None}], 'response_time': 1.62}),\n",
       "  AIMessage(content=\" Based on the information provided, the most recent winner of the US Open men's singles tournament as of 2023 is not specified. However, among the champions with the most titles in the open era, Jimmy Connors, Pete Sampras, and Roger Federer have won five times each. The current champion is Jannik Sinner, who won in 2021.\", additional_kwargs={}, response_metadata={'model': 'mistral', 'created_at': '2025-04-08T05:14:08.723848Z', 'done': True, 'done_reason': 'stop', 'total_duration': 127782122000, 'load_duration': 21036600, 'prompt_eval_count': 1278, 'prompt_eval_duration': 111714641800, 'eval_count': 84, 'eval_duration': 16031012600, 'message': Message(role='assistant', content=\" Based on the information provided, the most recent winner of the US Open men's singles tournament as of 2023 is not specified. However, among the champions with the most titles in the open era, Jimmy Connors, Pete Sampras, and Roger Federer have won five times each. The current champion is Jannik Sinner, who won in 2021.\", images=None, tool_calls=None), 'model_name': 'mistral'}, id='run-0631af90-8753-4725-a15c-959e227eeb7b-0', usage_metadata={'input_tokens': 1278, 'output_tokens': 84, 'total_tokens': 1362})]}"
      ]
     },
     "execution_count": 12,
     "metadata": {},
     "output_type": "execute_result"
    }
   ],
   "source": [
    "agent_executor.invoke({\"messages\": [(\"user\", \"who is the winnner of the us open\")]})"
   ]
  },
  {
   "cell_type": "code",
   "execution_count": 13,
   "id": "87445b00",
   "metadata": {},
   "outputs": [],
   "source": [
    "import operator\n",
    "from typing import Annotated, List, Tuple\n",
    "from typing_extensions import TypedDict\n",
    "\n",
    "\n",
    "class PlanExecute(TypedDict):\n",
    "    input: str\n",
    "    plan: List[str]\n",
    "    past_steps: Annotated[List[Tuple], operator.add]\n",
    "    response: str"
   ]
  },
  {
   "cell_type": "code",
   "execution_count": 14,
   "id": "f0754126",
   "metadata": {},
   "outputs": [
    {
     "name": "stdout",
     "output_type": "stream",
     "text": [
      "Name: langchain-core\n",
      "Version: 0.3.51\n",
      "Summary: Building applications with LLMs through composability\n",
      "Home-page: \n",
      "Author: \n",
      "Author-email: \n",
      "License: MIT\n",
      "Location: c:\\Users\\abdul.muhmin\\Al&ML\\local_ai_agent\\LocalAIAgentWithRAG\\Restaurant Review AI Agent\\venv\\Lib\\site-packages\n",
      "Requires: jsonpatch, langsmith, packaging, pydantic, PyYAML, tenacity, typing-extensions\n",
      "Required-by: langchain, langchain-chroma, langchain-community, langchain-ollama, langchain-text-splitters, langgraph, langgraph-checkpoint, langgraph-prebuilt\n",
      "Note: you may need to restart the kernel to use updated packages.\n"
     ]
    }
   ],
   "source": [
    "pip show langchain-core\n"
   ]
  },
  {
   "cell_type": "code",
   "execution_count": 16,
   "id": "36af3565",
   "metadata": {},
   "outputs": [],
   "source": [
    "from pydantic import BaseModel, Field\n",
    "\n",
    "\n",
    "class Plan(BaseModel):\n",
    "    \"\"\"Plan to follow in future\"\"\"\n",
    "\n",
    "    steps: List[str] = Field(\n",
    "        description=\"different steps to follow, should be in sorted order\"\n",
    "    )"
   ]
  },
  {
   "cell_type": "code",
   "execution_count": null,
   "id": "5cdb8d87",
   "metadata": {},
   "outputs": [],
   "source": [
    "from langchain_core.prompts import ChatPromptTemplate\n",
    "\n",
    "planner_prompt = ChatPromptTemplate.from_messages(\n",
    "    [\n",
    "        (\n",
    "            \"system\",\n",
    "            \"\"\"For the given objective, come up with a simple step by step plan. \\\n",
    "This plan should involve individual tasks, that if executed correctly will yield the correct answer. Do not add any superfluous steps. \\\n",
    "The result of the final step should be the final answer. Make sure that each step has all the information needed - do not skip steps.\"\"\",\n",
    "        ),\n",
    "        (\"placeholder\", \"{messages}\"),\n",
    "    ]\n",
    ")\n",
    "planner = planner_prompt | ChatOllama(\n",
    "    model=\"mistral\", temperature=0\n",
    ").with_structured_output(Plan)"
   ]
  }
 ],
 "metadata": {
  "kernelspec": {
   "display_name": "venv",
   "language": "python",
   "name": "python3"
  },
  "language_info": {
   "codemirror_mode": {
    "name": "ipython",
    "version": 3
   },
   "file_extension": ".py",
   "mimetype": "text/x-python",
   "name": "python",
   "nbconvert_exporter": "python",
   "pygments_lexer": "ipython3",
   "version": "3.13.2"
  }
 },
 "nbformat": 4,
 "nbformat_minor": 5
}
