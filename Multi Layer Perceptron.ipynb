{
 "cells": [
  {
   "cell_type": "code",
   "execution_count": null,
   "id": "4666d183",
   "metadata": {},
   "outputs": [
    {
     "name": "stderr",
     "output_type": "stream",
     "text": [
      "[nltk_data] Downloading package punkt_tab to\n",
      "[nltk_data]     C:\\Users\\abdul.muhmin\\AppData\\Roaming\\nltk_data...\n",
      "[nltk_data]   Package punkt_tab is already up-to-date!\n",
      "[nltk_data] Downloading package stopwords to\n",
      "[nltk_data]     C:\\Users\\abdul.muhmin\\AppData\\Roaming\\nltk_data...\n",
      "[nltk_data]   Package stopwords is already up-to-date!\n",
      "[nltk_data] Downloading package wordnet to\n",
      "[nltk_data]     C:\\Users\\abdul.muhmin\\AppData\\Roaming\\nltk_data...\n",
      "[nltk_data]   Package wordnet is already up-to-date!\n",
      "[nltk_data] Downloading package averaged_perceptron_tagger to\n",
      "[nltk_data]     C:\\Users\\abdul.muhmin\\AppData\\Roaming\\nltk_data...\n",
      "[nltk_data]   Package averaged_perceptron_tagger is already up-to-\n",
      "[nltk_data]       date!\n"
     ]
    }
   ],
   "source": [
    "import torch\n",
    "import torch.nn as nn\n",
    "import torch.optim as optim\n",
    "from torch.utils.data import Dataset, DataLoader\n",
    "import nltk\n",
    "from nltk.tokenize import word_tokenize\n",
    "from nltk.corpus import stopwords\n",
    "from nltk.stem import WordNetLemmatizer\n",
    "from nltk.tag import pos_tag\n",
    "from collections import Counter\n",
    "import string\n",
    "\n",
    "\n",
    "nltk.download('punkt_tab')\n",
    "nltk.download('stopwords')\n",
    "nltk.download('wordnet')\n",
    "nltk.download('averaged_perceptron_tagger')\n",
    "\n",
    "def get_wordnet_pos(treebank_tag):\n",
    "    if treebank_tag.startswith('J'):\n",
    "        return 'a'\n",
    "    elif treebank_tag.startswith('V'):\n",
    "        return 'v'\n",
    "    elif treebank_tag.startswith('N'):\n",
    "        return 'n'\n",
    "    elif treebank_tag.startswith('R'):\n",
    "        return 'r'\n",
    "    else:\n",
    "        return 'n'\n",
    "\n",
    "def load_data(filepath):\n",
    "    with open(filepath, 'r', encoding='utf-8') as f:\n",
    "        text = f.read().lower()\n",
    "    return text\n",
    "\n",
    "def preprocess_text(text, sequence_length=5):\n",
    "    tokenized_words = word_tokenize(text)\n",
    "    lemmatizer = WordNetLemmatizer()\n",
    "    stop_words = set(stopwords.words('english'))\n",
    "    punctuation = set(string.punctuation)\n",
    "    \n",
    "    words = [\n",
    "        lemmatizer.lemmatize(word.lower(), get_wordnet_pos(pos))\n",
    "        for word, pos in pos_tag(tokenized_words)\n",
    "        if word not in stop_words and word not in punctuation\n",
    "    ]\n",
    "    \n",
    "    word_counts = Counter(words)\n",
    "    vocab = {word: i+1 for i, (word, _) in enumerate(word_counts.most_common())}\n",
    "    vocab['<UNK>'] = len(vocab) + 1\n",
    "    vocab_size = len(vocab)\n",
    "    \n",
    "    sequences = []\n",
    "    for i in range(len(words) - sequence_length):\n",
    "        seq = words[i: i + sequence_length]\n",
    "        sequences.append([vocab.get(word, vocab['<UNK>']) for word in seq])\n",
    "    \n",
    "    return sequences, vocab, vocab_size\n",
    "\n",
    "class TextDataset(Dataset):\n",
    "    def __init__(self, sequences):\n",
    "        self.x = torch.tensor([seq[:-1] for seq in sequences], dtype=torch.long)\n",
    "        self.y = torch.tensor([seq[-1] for seq in sequences], dtype=torch.long)\n",
    "    \n",
    "    def __len__(self):\n",
    "        return len(self.x)\n",
    "    \n",
    "    def __getitem__(self, idx):\n",
    "        return self.x[idx], self.y[idx]\n",
    "\n",
    "class LSTMModel(nn.Module):\n",
    "    def __init__(self, vocab_size, embedding_dim=128, hidden_dim=256):\n",
    "        super(LSTMModel, self).__init__()\n",
    "        self.embedding = nn.Embedding(vocab_size, embedding_dim)\n",
    "        self.lstm = nn.LSTM(embedding_dim, hidden_dim, batch_first=True)\n",
    "        self.fc = nn.Linear(hidden_dim, vocab_size)\n",
    "    \n",
    "    def forward(self, x):\n",
    "        x = self.embedding(x)\n",
    "        x, _ = self.lstm(x)\n",
    "        x = self.fc(x[:, -1, :])\n",
    "        return x\n",
    "\n",
    "def train_model(model, dataloader, vocab_size, epochs=10, lr=0.001):\n",
    "    criterion = nn.CrossEntropyLoss()\n",
    "    optimizer = optim.Adam(model.parameters(), lr=lr)\n",
    "    model.train()\n",
    "    \n",
    "    for epoch in range(epochs):\n",
    "        total_loss = 0\n",
    "        for x_batch, y_batch in dataloader:\n",
    "            optimizer.zero_grad()\n",
    "            y_pred = model(x_batch)\n",
    "            loss = criterion(y_pred, y_batch)\n",
    "            loss.backward()\n",
    "            optimizer.step()\n",
    "            total_loss += loss.item()\n",
    "        \n",
    "        print(f\"Epoch {epoch+1}, Loss: {total_loss/len(dataloader):.4f}\")\n",
    "\n",
    "def predict(model, text, vocab, sequence_length=5):\n",
    "    model.eval()\n",
    "    words = word_tokenize(text.lower())\n",
    "    sequence = [vocab.get(word, vocab['<UNK>']) for word in words][-sequence_length:]\n",
    "    input_tensor = torch.tensor(sequence, dtype=torch.long).unsqueeze(0)\n",
    "    \n",
    "    with torch.no_grad():\n",
    "        output = model(input_tensor)\n",
    "        predicted_idx = torch.argmax(output, dim=1).item()\n",
    "    \n",
    "    inv_vocab = {idx: word for word, idx in vocab.items()}\n",
    "    return inv_vocab.get(predicted_idx, '<UNK>')\n",
    "\n",
    "# Load and process data\n",
    "filepath = r\"C:\\Users\\abdul.muhmin\\Downloads\\holmes.txt\"\n",
    "text = load_data(filepath)\n",
    "sequences, vocab, vocab_size = preprocess_text(text)\n",
    "\n",
    "dataset = TextDataset(sequences)\n",
    "dataloader = DataLoader(dataset, batch_size=64, shuffle=True)\n",
    "\n",
    "# Train the model\n",
    "model = LSTMModel(vocab_size)\n",
    "train_model(model, dataloader, vocab_size)\n",
    "\n",
    "# Predict a word\n",
    "input_text = \"the detective found\"\n",
    "predicted_word = predict(model, input_text, vocab)\n",
    "print(f\"Predicted completion: {predicted_word}\")\n"
   ]
  },
  {
   "cell_type": "code",
   "execution_count": null,
   "id": "6c9e0f5c",
   "metadata": {},
   "outputs": [],
   "source": [
    "import torch\n",
    "import torch.nn as nn\n",
    "import torch.optim as optim\n",
    "from torch.utils.data import Dataset, DataLoader\n",
    "import nltk\n",
    "from nltk.tokenize import word_tokenize\n",
    "from nltk.corpus import stopwords\n",
    "from nltk.stem import WordNetLemmatizer\n",
    "from nltk.tag import pos_tag\n",
    "from collections import Counter\n",
    "import string"
   ]
  },
  {
   "cell_type": "code",
   "execution_count": null,
   "id": "52fc4421",
   "metadata": {},
   "outputs": [
    {
     "name": "stderr",
     "output_type": "stream",
     "text": [
      "[nltk_data] Downloading package punkt_tab to\n",
      "[nltk_data]     C:\\Users\\abdul.muhmin\\AppData\\Roaming\\nltk_data...\n",
      "[nltk_data]   Package punkt_tab is already up-to-date!\n",
      "[nltk_data] Downloading package stopwords to\n",
      "[nltk_data]     C:\\Users\\abdul.muhmin\\AppData\\Roaming\\nltk_data...\n",
      "[nltk_data]   Package stopwords is already up-to-date!\n",
      "[nltk_data] Downloading package wordnet to\n",
      "[nltk_data]     C:\\Users\\abdul.muhmin\\AppData\\Roaming\\nltk_data...\n",
      "[nltk_data]   Package wordnet is already up-to-date!\n",
      "[nltk_data] Downloading package averaged_perceptron_tagger to\n",
      "[nltk_data]     C:\\Users\\abdul.muhmin\\AppData\\Roaming\\nltk_data...\n",
      "[nltk_data]   Package averaged_perceptron_tagger is already up-to-\n",
      "[nltk_data]       date!\n"
     ]
    },
    {
     "data": {
      "text/plain": [
       "True"
      ]
     },
     "execution_count": 2,
     "metadata": {},
     "output_type": "execute_result"
    }
   ],
   "source": [
    "nltk.download('punkt_tab')\n",
    "nltk.download('stopwords')\n",
    "nltk.download('wordnet')\n",
    "nltk.download('averaged_perceptron_tagger')\n"
   ]
  },
  {
   "cell_type": "code",
   "execution_count": null,
   "id": "2d7aa012",
   "metadata": {},
   "outputs": [],
   "source": [
    "\n",
    "def get_wordnet_pos(treebank_tag):\n",
    "    if treebank_tag.startswith('J'):\n",
    "        return 'a'\n",
    "    elif treebank_tag.startswith('V'):\n",
    "        return 'v'\n",
    "    elif treebank_tag.startswith('N'):\n",
    "        return 'n'\n",
    "    elif treebank_tag.startswith('R'):\n",
    "        return 'r'\n",
    "    else:\n",
    "        return 'n'\n",
    "\n",
    "def load_data(filepath):\n",
    "    with open(filepath, 'r', encoding='utf-8') as f:\n",
    "        text = f.read().lower()\n",
    "    return text\n"
   ]
  },
  {
   "cell_type": "code",
   "execution_count": null,
   "id": "d41589ec",
   "metadata": {},
   "outputs": [],
   "source": [
    "\n",
    "def preprocess_text(text, sequence_length=5):\n",
    "    tokenized_words = word_tokenize(text)\n",
    "    lemmatizer = WordNetLemmatizer()\n",
    "    stop_words = set(stopwords.words('english'))\n",
    "    punctuation = set(string.punctuation)\n",
    "    \n",
    "    words = [\n",
    "        lemmatizer.lemmatize(word.lower(), get_wordnet_pos(pos))\n",
    "        for word, pos in pos_tag(tokenized_words)\n",
    "        if word not in stop_words and word not in punctuation\n",
    "    ]\n",
    "    \n",
    "    word_counts = Counter(words)\n",
    "    vocab = {word: i+1 for i, (word, _) in enumerate(word_counts.most_common())}\n",
    "    vocab['<UNK>'] = len(vocab) + 1\n",
    "    vocab_size = len(vocab)\n",
    "    \n",
    "    sequences = []\n",
    "    for i in range(len(words) - sequence_length):\n",
    "        seq = words[i: i + sequence_length]\n",
    "        sequences.append([vocab.get(word, vocab['<UNK>']) for word in seq])\n",
    "    \n",
    "    return sequences, vocab, vocab_size\n",
    "\n",
    "class TextDataset(Dataset):\n",
    "    def __init__(self, sequences):\n",
    "        self.x = torch.tensor([seq[:-1] for seq in sequences], dtype=torch.long)\n",
    "        self.y = torch.tensor([seq[-1] for seq in sequences], dtype=torch.long)\n",
    "    \n",
    "    def __len__(self):\n",
    "        return len(self.x)\n",
    "    \n",
    "    def __getitem__(self, idx):\n",
    "        return self.x[idx], self.y[idx]\n",
    "\n",
    "class LSTMModel(nn.Module):\n",
    "    def __init__(self, vocab_size, embedding_dim=128, hidden_dim=256):\n",
    "        super(LSTMModel, self).__init__()\n",
    "        self.embedding = nn.Embedding(vocab_size, embedding_dim)\n",
    "        self.lstm = nn.LSTM(embedding_dim, hidden_dim, batch_first=True)\n",
    "        self.fc = nn.Linear(hidden_dim, vocab_size)\n",
    "    \n",
    "    def forward(self, x):\n",
    "        x = self.embedding(x)\n",
    "        x, _ = self.lstm(x)\n",
    "        x = self.fc(x[:, -1, :])\n",
    "        return x\n",
    "\n",
    "def train_model(model, dataloader, vocab_size, epochs=10, lr=0.001):\n",
    "    criterion = nn.CrossEntropyLoss()\n",
    "    optimizer = optim.Adam(model.parameters(), lr=lr)\n",
    "    model.train()\n",
    "    \n",
    "    for epoch in range(epochs):\n",
    "        total_loss = 0\n",
    "        for x_batch, y_batch in dataloader:\n",
    "            optimizer.zero_grad()\n",
    "            y_pred = model(x_batch)\n",
    "            loss = criterion(y_pred, y_batch)\n",
    "            loss.backward()\n",
    "            optimizer.step()\n",
    "            total_loss += loss.item()\n",
    "        \n",
    "        print(f\"Epoch {epoch+1}, Loss: {total_loss/len(dataloader):.4f}\")\n",
    "\n",
    "def predict(model, text, vocab, sequence_length=5):\n",
    "    model.eval()\n",
    "    words = word_tokenize(text.lower())\n",
    "    sequence = [vocab.get(word, vocab['<UNK>']) for word in words][-sequence_length:]\n",
    "    input_tensor = torch.tensor(sequence, dtype=torch.long).unsqueeze(0)\n",
    "    \n",
    "    with torch.no_grad():\n",
    "        output = model(input_tensor)\n",
    "        predicted_idx = torch.argmax(output, dim=1).item()\n",
    "    \n",
    "    inv_vocab = {idx: word for word, idx in vocab.items()}\n",
    "    return inv_vocab.get(predicted_idx, '<UNK>')"
   ]
  },
  {
   "cell_type": "code",
   "execution_count": null,
   "id": "b4cad25b",
   "metadata": {},
   "outputs": [],
   "source": [
    "# Load and process data\n",
    "filepath = r\"C:\\Users\\abdul.muhmin\\Downloads\\holmes.txt\"\n",
    "text = load_data(filepath)\n",
    "sequences, vocab, vocab_size = preprocess_text(text)\n",
    "\n",
    "dataset = TextDataset(sequences)\n",
    "dataloader = DataLoader(dataset, batch_size=64, shuffle=True)"
   ]
  },
  {
   "cell_type": "code",
   "execution_count": null,
   "id": "5d77244e",
   "metadata": {},
   "outputs": [
    {
     "name": "stdout",
     "output_type": "stream",
     "text": [
      "['apple', 'banana', 'cherry', 'date']\n",
      "['banana', 'cherry', 'date', 'apple']\n",
      "['cherry', 'date', 'apple', 'banana']\n",
      "['date', 'apple', 'banana', 'cherry']\n"
     ]
    }
   ],
   "source": [
    "words = [\"apple\", \"banana\", \"cherry\", \"date\",\"apple\", \"banana\", \"cherry\", \"date\"]\n",
    "sequence_length = 4\n",
    "\n",
    "for i in range(len(words) - sequence_length):\n",
    "    print(words[i: i + sequence_length])\n"
   ]
  },
  {
   "cell_type": "code",
   "execution_count": null,
   "id": "410a331c",
   "metadata": {},
   "outputs": [
    {
     "name": "stdout",
     "output_type": "stream",
     "text": [
      "torch.Size([4])\n"
     ]
    }
   ],
   "source": [
    "import torch\n",
    "\n",
    "sequence = [0, 0, 0, 5]  # A list of word indices\n",
    "tensor_sequence = torch.tensor(sequence, dtype=torch.long)\n",
    "print(tensor_sequence.shape)\n"
   ]
  },
  {
   "cell_type": "code",
   "execution_count": null,
   "id": "31b5c183",
   "metadata": {},
   "outputs": [
    {
     "name": "stdout",
     "output_type": "stream",
     "text": [
      "torch.Size([1, 4])\n"
     ]
    }
   ],
   "source": [
    "\n",
    "input_tensor = tensor_sequence.unsqueeze(0)\n",
    "print(input_tensor.shape)\n"
   ]
  },
  {
   "cell_type": "code",
   "execution_count": null,
   "id": "f1ba6c02",
   "metadata": {},
   "outputs": [
    {
     "name": "stdout",
     "output_type": "stream",
     "text": [
      "1\n"
     ]
    }
   ],
   "source": [
    "output = torch.tensor([79,2575,1314])\n",
    "predicted_idx=torch.argmax(output).item()\n",
    "print(predicted_idx)"
   ]
  },
  {
   "cell_type": "code",
   "execution_count": null,
   "id": "91a350ad",
   "metadata": {},
   "outputs": [],
   "source": []
  },
  {
   "cell_type": "code",
   "execution_count": null,
   "id": "88d3d1a4",
   "metadata": {},
   "outputs": [],
   "source": []
  }
 ],
 "metadata": {
  "kernelspec": {
   "display_name": "py310_env",
   "language": "python",
   "name": "py310_env"
  },
  "language_info": {
   "codemirror_mode": {
    "name": "ipython",
    "version": 3
   },
   "file_extension": ".py",
   "mimetype": "text/x-python",
   "name": "python",
   "nbconvert_exporter": "python",
   "pygments_lexer": "ipython3",
   "version": "3.10.16"
  }
 },
 "nbformat": 4,
 "nbformat_minor": 5
}
